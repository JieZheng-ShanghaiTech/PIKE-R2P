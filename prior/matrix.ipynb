{
 "cells": [
  {
   "cell_type": "code",
   "execution_count": 1,
   "metadata": {},
   "outputs": [],
   "source": [
    "import pandas as pd\n",
    "import numpy as np\n",
    "import matplotlib.pyplot as plt\n",
    "import seaborn as sns"
   ]
  },
  {
   "cell_type": "code",
   "execution_count": 2,
   "metadata": {},
   "outputs": [
    {
     "name": "stdout",
     "output_type": "stream",
     "text": [
      "{'CD3E': 'CD3', 'CD247': 'CD3', 'CD4': 'CD4', 'CD8A': 'CD8', 'PTPRC': 'CD45RA', 'NCAM1': 'CD56', 'FCGR3A': 'CD16', 'ITGAX': 'CD11c', 'CD14': 'CD14', 'CD19': 'CD19', 'CD34': 'CD34'}\n"
     ]
    }
   ],
   "source": [
    "name_dicts={}\n",
    "with open('match') as f:\n",
    "    for line in f.readlines():\n",
    "        line=line.split('\\n')[0].split('\\t')\n",
    "        name_dicts[line[1]]=line[0]\n",
    "print(name_dicts)\n"
   ]
  },
  {
   "cell_type": "code",
   "execution_count": 3,
   "metadata": {},
   "outputs": [
    {
     "name": "stdout",
     "output_type": "stream",
     "text": [
      "35\n",
      "{('CD3', 'CD4'): 0.58375, ('CD3', 'CD34'): 0.243, ('CD8', 'CD3'): 0.569, ('CD8', 'CD16'): 0.29775, ('CD8', 'CD14'): 0.1945, ('CD45RA', 'CD4'): 0.725, ('CD45RA', 'CD3'): 0.6745, ('CD45RA', 'CD34'): 0.4625, ('CD45RA', 'CD8'): 0.4275, ('CD45RA', 'CD16'): 0.35875, ('CD45RA', 'CD14'): 0.29625, ('CD56', 'CD19'): 0.4605, ('CD56', 'CD45RA'): 0.42575, ('CD56', 'CD34'): 0.3995, ('CD56', 'CD11c'): 0.3535, ('CD56', 'CD16'): 0.269, ('CD56', 'CD14'): 0.233, ('CD56', 'CD3'): 0.215, ('CD16', 'CD3'): 0.185, ('CD16', 'CD4'): 0.40425, ('CD16', 'CD14'): 0.20575, ('CD11c', 'CD45RA'): 0.47725, ('CD11c', 'CD19'): 0.449, ('CD11c', 'CD3'): 0.383, ('CD11c', 'CD34'): 0.362, ('CD11c', 'CD4'): 0.28975, ('CD11c', 'CD14'): 0.2785, ('CD11c', 'CD8'): 0.26475, ('CD11c', 'CD16'): 0.1955, ('CD19', 'CD45RA'): 0.46275, ('CD19', 'CD34'): 0.436, ('CD19', 'CD3'): 0.3735, ('CD19', 'CD14'): 0.274, ('CD19', 'CD16'): 0.255, ('CD34', 'CD14'): 0.2725}\n"
     ]
    }
   ],
   "source": [
    "value_dicts={}\n",
    "with open('prior') as f:\n",
    "    for line in f.readlines():\n",
    "        line=line.split('\\n')[0].split('\\t')\n",
    "        value_dicts[(name_dicts[line[0]],name_dicts[line[1]])]=float(line[2])\n",
    "print(len(value_dicts))\n",
    "print(value_dicts)"
   ]
  },
  {
   "cell_type": "code",
   "execution_count": 4,
   "metadata": {},
   "outputs": [
    {
     "name": "stdout",
     "output_type": "stream",
     "text": [
      "35\n",
      "{('CD3', 'CD4'): 0.955, ('CD3', 'CD34'): 0.486, ('CD8', 'CD3'): 0.959, ('CD8', 'CD16'): 0.621, ('CD8', 'CD14'): 0.414, ('CD45RA', 'CD4'): 0.982, ('CD45RA', 'CD3'): 0.982, ('CD45RA', 'CD34'): 0.925, ('CD45RA', 'CD8'): 0.763, ('CD45RA', 'CD16'): 0.695, ('CD45RA', 'CD14'): 0.619, ('CD56', 'CD19'): 0.922, ('CD56', 'CD45RA'): 0.816, ('CD56', 'CD34'): 0.799, ('CD56', 'CD11c'): 0.708, ('CD56', 'CD16'): 0.538, ('CD56', 'CD14'): 0.466, ('CD56', 'CD3'): 0.43, ('CD16', 'CD3'): 0.411, ('CD16', 'CD4'): 0.758, ('CD16', 'CD14'): 0.633, ('CD11c', 'CD45RA'): 0.929, ('CD11c', 'CD19'): 0.901, ('CD11c', 'CD3'): 0.772, ('CD11c', 'CD34'): 0.724, ('CD11c', 'CD4'): 0.605, ('CD11c', 'CD14'): 0.596, ('CD11c', 'CD8'): 0.544, ('CD11c', 'CD16'): 0.491, ('CD19', 'CD45RA'): 0.931, ('CD19', 'CD34'): 0.872, ('CD19', 'CD3'): 0.762, ('CD19', 'CD14'): 0.548, ('CD19', 'CD16'): 0.521, ('CD34', 'CD14'): 0.545}\n",
      "35\n",
      "{('CD3', 'CD4'): 0.9, ('CD3', 'CD34'): 0.0, ('CD8', 'CD3'): 0.9, ('CD8', 'CD16'): 0.0, ('CD8', 'CD14'): 0.0, ('CD45RA', 'CD4'): 0.9, ('CD45RA', 'CD3'): 0.9, ('CD45RA', 'CD34'): 0.0, ('CD45RA', 'CD8'): 0.0, ('CD45RA', 'CD16'): 0.0, ('CD45RA', 'CD14'): 0.0, ('CD56', 'CD19'): 0.0, ('CD56', 'CD45RA'): 0.0, ('CD56', 'CD34'): 0.0, ('CD56', 'CD11c'): 0.0, ('CD56', 'CD16'): 0.0, ('CD56', 'CD14'): 0.0, ('CD56', 'CD3'): 0.0, ('CD16', 'CD3'): 0.0, ('CD16', 'CD4'): 0.0, ('CD16', 'CD14'): 0.0, ('CD11c', 'CD45RA'): 0.0, ('CD11c', 'CD19'): 0.0, ('CD11c', 'CD3'): 0.0, ('CD11c', 'CD34'): 0.0, ('CD11c', 'CD4'): 0.0, ('CD11c', 'CD14'): 0.0, ('CD11c', 'CD8'): 0.0, ('CD11c', 'CD16'): 0.0, ('CD19', 'CD45RA'): 0.0, ('CD19', 'CD34'): 0.0, ('CD19', 'CD3'): 0.0, ('CD19', 'CD14'): 0.0, ('CD19', 'CD16'): 0.0, ('CD34', 'CD14'): 0.0}\n",
      "35\n",
      "{('CD3', 'CD4'): 0.0, ('CD3', 'CD34'): 0.0, ('CD8', 'CD3'): 0.0, ('CD8', 'CD16'): 0.0, ('CD8', 'CD14'): 0.0, ('CD45RA', 'CD4'): 0.379, ('CD45RA', 'CD3'): 0.064, ('CD45RA', 'CD34'): 0.0, ('CD45RA', 'CD8'): 0.379, ('CD45RA', 'CD16'): 0.39, ('CD45RA', 'CD14'): 0.0, ('CD56', 'CD19'): 0.0, ('CD56', 'CD45RA'): 0.078, ('CD56', 'CD34'): 0.0, ('CD56', 'CD11c'): 0.0, ('CD56', 'CD16'): 0.0, ('CD56', 'CD14'): 0.0, ('CD56', 'CD3'): 0.0, ('CD16', 'CD3'): 0.0, ('CD16', 'CD4'): 0.379, ('CD16', 'CD14'): 0.0, ('CD11c', 'CD45RA'): 0.081, ('CD11c', 'CD19'): 0.0, ('CD11c', 'CD3'): 0.0, ('CD11c', 'CD34'): 0.0, ('CD11c', 'CD4'): 0.0, ('CD11c', 'CD14'): 0.0, ('CD11c', 'CD8'): 0.0, ('CD11c', 'CD16'): 0.0, ('CD19', 'CD45RA'): 0.0, ('CD19', 'CD34'): 0.0, ('CD19', 'CD3'): 0.0, ('CD19', 'CD14'): 0.0, ('CD19', 'CD16'): 0.0, ('CD34', 'CD14'): 0.0}\n",
      "35\n",
      "{('CD3', 'CD4'): 0.48, ('CD3', 'CD34'): 0.486, ('CD8', 'CD3'): 0.417, ('CD8', 'CD16'): 0.57, ('CD8', 'CD14'): 0.364, ('CD45RA', 'CD4'): 0.639, ('CD45RA', 'CD3'): 0.752, ('CD45RA', 'CD34'): 0.925, ('CD45RA', 'CD8'): 0.568, ('CD45RA', 'CD16'): 0.35, ('CD45RA', 'CD14'): 0.566, ('CD56', 'CD19'): 0.92, ('CD56', 'CD45RA'): 0.809, ('CD56', 'CD34'): 0.799, ('CD56', 'CD11c'): 0.706, ('CD56', 'CD16'): 0.538, ('CD56', 'CD14'): 0.466, ('CD56', 'CD3'): 0.43, ('CD16', 'CD3'): 0.329, ('CD16', 'CD4'): 0.48, ('CD16', 'CD14'): 0.19, ('CD11c', 'CD45RA'): 0.899, ('CD11c', 'CD19'): 0.895, ('CD11c', 'CD3'): 0.76, ('CD11c', 'CD34'): 0.724, ('CD11c', 'CD4'): 0.554, ('CD11c', 'CD14'): 0.518, ('CD11c', 'CD8'): 0.515, ('CD11c', 'CD16'): 0.291, ('CD19', 'CD45RA'): 0.92, ('CD19', 'CD34'): 0.872, ('CD19', 'CD3'): 0.732, ('CD19', 'CD14'): 0.548, ('CD19', 'CD16'): 0.499, ('CD34', 'CD14'): 0.545}\n"
     ]
    }
   ],
   "source": [
    "combine_value_dicts={}\n",
    "with open('combine_score') as f:\n",
    "    for line in f.readlines():\n",
    "        line=line.split('\\n')[0].split('\\t')\n",
    "        combine_value_dicts[(name_dicts[line[0]],name_dicts[line[1]])]=float(line[2])\n",
    "print(len(combine_value_dicts))\n",
    "print(combine_value_dicts)\n",
    "\n",
    "database_value_dicts={}\n",
    "with open('database') as f:\n",
    "    for line in f.readlines():\n",
    "        line=line.split('\\n')[0].split('\\t')\n",
    "        database_value_dicts[(name_dicts[line[0]],name_dicts[line[1]])]=float(line[2])\n",
    "print(len(database_value_dicts))\n",
    "print(database_value_dicts)\n",
    "\n",
    "experiment_value_dicts={}\n",
    "with open('experiment') as f:\n",
    "    for line in f.readlines():\n",
    "        line=line.split('\\n')[0].split('\\t')\n",
    "        experiment_value_dicts[(name_dicts[line[0]],name_dicts[line[1]])]=float(line[2])\n",
    "print(len(experiment_value_dicts))\n",
    "print(experiment_value_dicts)\n",
    "\n",
    "text_value_dicts={}\n",
    "with open('text_mining') as f:\n",
    "    for line in f.readlines():\n",
    "        line=line.split('\\n')[0].split('\\t')\n",
    "        text_value_dicts[(name_dicts[line[0]],name_dicts[line[1]])]=float(line[2])\n",
    "print(len(text_value_dicts))\n",
    "print(text_value_dicts)"
   ]
  },
  {
   "cell_type": "code",
   "execution_count": 5,
   "metadata": {},
   "outputs": [
    {
     "name": "stdout",
     "output_type": "stream",
     "text": [
      "['CD3', 'CD4', 'CD8', 'CD45RA', 'CD56', 'CD16', 'CD10', 'CD11c', 'CD14', 'CD19', 'CD34', 'CCR5', 'CCR7']\n"
     ]
    }
   ],
   "source": [
    "cbmc_pd=pd.read_csv('../raw_data/CITE/GSE100866_CBMC_8K_13AB_10X-ADT_clr-transformed.csv')\n",
    "cbmc_protein=list(cbmc_pd['Unnamed: 0'])\n",
    "print(cbmc_protein)"
   ]
  },
  {
   "cell_type": "code",
   "execution_count": 6,
   "metadata": {},
   "outputs": [
    {
     "name": "stdout",
     "output_type": "stream",
     "text": [
      "['CD3', 'CD4', 'CD8', 'CD2', 'CD45RA', 'CD57', 'CD16', 'CD14', 'CD11c', 'CD19']\n"
     ]
    }
   ],
   "source": [
    "pbmc_pd=pd.read_csv('../raw_data/CITE/GSE100866_PBMC_vs_flow_10X-ADT_clr-transformed.csv')\n",
    "pbmc_protein=list(pbmc_pd['Unnamed: 0'])\n",
    "print(pbmc_protein)"
   ]
  },
  {
   "cell_type": "code",
   "execution_count": 8,
   "metadata": {},
   "outputs": [
    {
     "name": "stdout",
     "output_type": "stream",
     "text": [
      "[[0.      0.58375 0.569   0.      0.6745  0.      0.185   0.      0.383\n",
      "  0.3735  0.      0.      0.     ]\n",
      " [0.58375 0.      0.      0.      0.725   0.      0.40425 0.      0.28975\n",
      "  0.      0.      0.      0.     ]\n",
      " [0.569   0.      0.      0.      0.4275  0.      0.29775 0.1945  0.26475\n",
      "  0.      0.      0.      0.     ]\n",
      " [0.6745  0.725   0.4275  0.      0.      0.      0.35875 0.29625 0.47725\n",
      "  0.46275 0.      0.      0.     ]\n",
      " [0.215   0.      0.      0.      0.42575 0.      0.269   0.233   0.3535\n",
      "  0.4605  0.      0.      0.     ]\n",
      " [0.185   0.40425 0.29775 0.      0.35875 0.      0.      0.20575 0.1955\n",
      "  0.255   0.      0.      0.     ]\n",
      " [0.      0.      0.      0.      0.      0.      0.      0.      0.\n",
      "  0.      0.      0.      0.     ]\n",
      " [0.383   0.28975 0.26475 0.      0.47725 0.      0.1955  0.2785  0.\n",
      "  0.449   0.      0.      0.     ]\n",
      " [0.      0.      0.1945  0.      0.29625 0.      0.20575 0.      0.2785\n",
      "  0.274   0.      0.      0.     ]\n",
      " [0.3735  0.      0.      0.      0.46275 0.      0.255   0.274   0.449\n",
      "  0.      0.      0.      0.     ]\n",
      " [0.243   0.      0.      0.      0.4625  0.      0.      0.2725  0.362\n",
      "  0.436   0.      0.      0.     ]\n",
      " [0.      0.      0.      0.      0.      0.      0.      0.      0.\n",
      "  0.      0.      0.      0.     ]\n",
      " [0.      0.      0.      0.      0.      0.      0.      0.      0.\n",
      "  0.      0.      0.      0.     ]]\n"
     ]
    }
   ],
   "source": [
    "cbmc_matrix=np.zeros((len(cbmc_protein),len(cbmc_protein)))\n",
    "for idx_i,p_i in enumerate(cbmc_protein):\n",
    "    for idx_j,p_j in enumerate(pbmc_protein):\n",
    "        if (p_i,p_j) in value_dicts:\n",
    "            cbmc_matrix[idx_i][idx_j]=value_dicts[(p_i,p_j)]\n",
    "        if (p_j,p_i) in value_dicts:\n",
    "            cbmc_matrix[idx_i][idx_j]=value_dicts[(p_j,p_i)]\n",
    "print(cbmc_matrix)\n",
    "np.save('cbmc.npy',cbmc_matrix)"
   ]
  },
  {
   "cell_type": "code",
   "execution_count": 33,
   "metadata": {},
   "outputs": [
    {
     "name": "stdout",
     "output_type": "stream",
     "text": [
      "[[0.    0.955 0.959 0.982 0.43  0.411 0.411 0.772 0.772 0.762 0.486 0.\n",
      "  0.   ]\n",
      " [0.955 0.    0.    0.982 0.982 0.758 0.758 0.605 0.605 0.    0.    0.\n",
      "  0.   ]\n",
      " [0.959 0.    0.    0.763 0.763 0.621 0.621 0.544 0.414 0.    0.    0.\n",
      "  0.   ]\n",
      " [0.982 0.982 0.763 0.    0.    0.    0.695 0.619 0.929 0.931 0.    0.\n",
      "  0.   ]\n",
      " [0.43  0.982 0.763 0.    0.816 0.695 0.538 0.929 0.619 0.931 0.925 0.\n",
      "  0.   ]\n",
      " [0.411 0.758 0.621 0.    0.695 0.    0.    0.633 0.491 0.521 0.    0.\n",
      "  0.   ]\n",
      " [0.411 0.758 0.621 0.695 0.538 0.    0.    0.491 0.633 0.521 0.    0.\n",
      "  0.   ]\n",
      " [0.772 0.605 0.544 0.619 0.929 0.633 0.491 0.596 0.    0.548 0.545 0.\n",
      "  0.   ]\n",
      " [0.772 0.605 0.414 0.929 0.619 0.491 0.633 0.    0.596 0.901 0.724 0.\n",
      "  0.   ]\n",
      " [0.762 0.    0.    0.931 0.931 0.521 0.521 0.548 0.901 0.    0.872 0.\n",
      "  0.   ]\n",
      " [0.486 0.    0.    0.    0.925 0.    0.    0.545 0.724 0.872 0.    0.\n",
      "  0.   ]\n",
      " [0.    0.    0.    0.    0.    0.    0.    0.    0.    0.    0.    0.\n",
      "  0.   ]\n",
      " [0.    0.    0.    0.    0.    0.    0.    0.    0.    0.    0.    0.\n",
      "  0.   ]]\n",
      "[[0.  0.9 0.9 0.9 0.  0.  0.  0.  0.  0.  0.  0.  0. ]\n",
      " [0.9 0.  0.  0.9 0.9 0.  0.  0.  0.  0.  0.  0.  0. ]\n",
      " [0.9 0.  0.  0.  0.  0.  0.  0.  0.  0.  0.  0.  0. ]\n",
      " [0.9 0.9 0.  0.  0.  0.  0.  0.  0.  0.  0.  0.  0. ]\n",
      " [0.  0.9 0.  0.  0.  0.  0.  0.  0.  0.  0.  0.  0. ]\n",
      " [0.  0.  0.  0.  0.  0.  0.  0.  0.  0.  0.  0.  0. ]\n",
      " [0.  0.  0.  0.  0.  0.  0.  0.  0.  0.  0.  0.  0. ]\n",
      " [0.  0.  0.  0.  0.  0.  0.  0.  0.  0.  0.  0.  0. ]\n",
      " [0.  0.  0.  0.  0.  0.  0.  0.  0.  0.  0.  0.  0. ]\n",
      " [0.  0.  0.  0.  0.  0.  0.  0.  0.  0.  0.  0.  0. ]\n",
      " [0.  0.  0.  0.  0.  0.  0.  0.  0.  0.  0.  0.  0. ]\n",
      " [0.  0.  0.  0.  0.  0.  0.  0.  0.  0.  0.  0.  0. ]\n",
      " [0.  0.  0.  0.  0.  0.  0.  0.  0.  0.  0.  0.  0. ]]\n",
      "[[0.    0.    0.    0.064 0.    0.    0.    0.    0.    0.    0.    0.\n",
      "  0.   ]\n",
      " [0.    0.    0.    0.379 0.379 0.379 0.379 0.    0.    0.    0.    0.\n",
      "  0.   ]\n",
      " [0.    0.    0.    0.379 0.379 0.    0.    0.    0.    0.    0.    0.\n",
      "  0.   ]\n",
      " [0.064 0.379 0.379 0.    0.    0.    0.39  0.    0.081 0.    0.    0.\n",
      "  0.   ]\n",
      " [0.    0.379 0.379 0.    0.078 0.39  0.    0.081 0.    0.    0.    0.\n",
      "  0.   ]\n",
      " [0.    0.379 0.    0.    0.39  0.    0.    0.    0.    0.    0.    0.\n",
      "  0.   ]\n",
      " [0.    0.379 0.    0.39  0.    0.    0.    0.    0.    0.    0.    0.\n",
      "  0.   ]\n",
      " [0.    0.    0.    0.    0.081 0.    0.    0.    0.    0.    0.    0.\n",
      "  0.   ]\n",
      " [0.    0.    0.    0.081 0.    0.    0.    0.    0.    0.    0.    0.\n",
      "  0.   ]\n",
      " [0.    0.    0.    0.    0.    0.    0.    0.    0.    0.    0.    0.\n",
      "  0.   ]\n",
      " [0.    0.    0.    0.    0.    0.    0.    0.    0.    0.    0.    0.\n",
      "  0.   ]\n",
      " [0.    0.    0.    0.    0.    0.    0.    0.    0.    0.    0.    0.\n",
      "  0.   ]\n",
      " [0.    0.    0.    0.    0.    0.    0.    0.    0.    0.    0.    0.\n",
      "  0.   ]]\n",
      "[[0.    0.48  0.417 0.752 0.43  0.329 0.329 0.76  0.76  0.732 0.486 0.\n",
      "  0.   ]\n",
      " [0.48  0.    0.    0.639 0.639 0.48  0.48  0.554 0.554 0.    0.    0.\n",
      "  0.   ]\n",
      " [0.417 0.    0.    0.568 0.568 0.57  0.57  0.515 0.364 0.    0.    0.\n",
      "  0.   ]\n",
      " [0.752 0.639 0.568 0.    0.    0.    0.35  0.566 0.899 0.92  0.    0.\n",
      "  0.   ]\n",
      " [0.43  0.639 0.568 0.    0.809 0.35  0.538 0.899 0.566 0.92  0.925 0.\n",
      "  0.   ]\n",
      " [0.329 0.48  0.57  0.    0.35  0.    0.    0.19  0.291 0.499 0.    0.\n",
      "  0.   ]\n",
      " [0.329 0.48  0.57  0.35  0.538 0.    0.    0.291 0.19  0.499 0.    0.\n",
      "  0.   ]\n",
      " [0.76  0.554 0.515 0.566 0.899 0.19  0.291 0.518 0.    0.548 0.545 0.\n",
      "  0.   ]\n",
      " [0.76  0.554 0.364 0.899 0.566 0.291 0.19  0.    0.518 0.895 0.724 0.\n",
      "  0.   ]\n",
      " [0.732 0.    0.    0.92  0.92  0.499 0.499 0.548 0.895 0.    0.872 0.\n",
      "  0.   ]\n",
      " [0.486 0.    0.    0.    0.925 0.    0.    0.545 0.724 0.872 0.    0.\n",
      "  0.   ]\n",
      " [0.    0.    0.    0.    0.    0.    0.    0.    0.    0.    0.    0.\n",
      "  0.   ]\n",
      " [0.    0.    0.    0.    0.    0.    0.    0.    0.    0.    0.    0.\n",
      "  0.   ]]\n"
     ]
    }
   ],
   "source": [
    "combine_cbmc_matrix=np.zeros((len(cbmc_protein),len(cbmc_protein)))\n",
    "for idx_i,p_i in enumerate(cbmc_protein):\n",
    "    for idx_j,p_j in enumerate(pbmc_protein):\n",
    "        if (p_i,p_j) in value_dicts:\n",
    "            combine_cbmc_matrix[idx_i][idx_j]=combine_value_dicts[(p_i,p_j)]\n",
    "            combine_cbmc_matrix[idx_j][idx_i]=combine_value_dicts[(p_i,p_j)]\n",
    "        if (p_j,p_i) in value_dicts:\n",
    "            combine_cbmc_matrix[idx_i][idx_j]=combine_value_dicts[(p_j,p_i)]\n",
    "            combine_cbmc_matrix[idx_j][idx_i]=combine_value_dicts[(p_j,p_i)]\n",
    "print(combine_cbmc_matrix)\n",
    "np.save('combine_cbmc.npy',combine_cbmc_matrix)\n",
    "\n",
    "database_cbmc_matrix=np.zeros((len(cbmc_protein),len(cbmc_protein)))\n",
    "for idx_i,p_i in enumerate(cbmc_protein):\n",
    "    for idx_j,p_j in enumerate(pbmc_protein):\n",
    "        if (p_i,p_j) in value_dicts:\n",
    "            database_cbmc_matrix[idx_i][idx_j]=database_value_dicts[(p_i,p_j)]\n",
    "            database_cbmc_matrix[idx_j][idx_i]=database_value_dicts[(p_i,p_j)]\n",
    "        if (p_j,p_i) in value_dicts:\n",
    "            database_cbmc_matrix[idx_i][idx_j]=database_value_dicts[(p_j,p_i)]\n",
    "            database_cbmc_matrix[idx_j][idx_i]=database_value_dicts[(p_j,p_i)]\n",
    "print(database_cbmc_matrix)\n",
    "np.save('database_cbmc.npy',database_cbmc_matrix)\n",
    "\n",
    "experiment_cbmc_matrix=np.zeros((len(cbmc_protein),len(cbmc_protein)))\n",
    "for idx_i,p_i in enumerate(cbmc_protein):\n",
    "    for idx_j,p_j in enumerate(pbmc_protein):\n",
    "        if (p_i,p_j) in value_dicts:\n",
    "            experiment_cbmc_matrix[idx_i][idx_j]=experiment_value_dicts[(p_i,p_j)]\n",
    "            experiment_cbmc_matrix[idx_j][idx_i]=experiment_value_dicts[(p_i,p_j)]\n",
    "        if (p_j,p_i) in value_dicts:\n",
    "            experiment_cbmc_matrix[idx_i][idx_j]=experiment_value_dicts[(p_j,p_i)]\n",
    "            experiment_cbmc_matrix[idx_j][idx_i]=experiment_value_dicts[(p_j,p_i)]\n",
    "print(experiment_cbmc_matrix)\n",
    "np.save('experiment_cbmc.npy',experiment_cbmc_matrix)\n",
    "\n",
    "text_cbmc_matrix=np.zeros((len(cbmc_protein),len(cbmc_protein)))\n",
    "for idx_i,p_i in enumerate(cbmc_protein):\n",
    "    for idx_j,p_j in enumerate(pbmc_protein):\n",
    "        if (p_i,p_j) in value_dicts:\n",
    "            text_cbmc_matrix[idx_i][idx_j]=text_value_dicts[(p_i,p_j)]\n",
    "            text_cbmc_matrix[idx_j][idx_i]=text_value_dicts[(p_i,p_j)]\n",
    "        if (p_j,p_i) in value_dicts:\n",
    "            text_cbmc_matrix[idx_i][idx_j]=text_value_dicts[(p_j,p_i)]\n",
    "            text_cbmc_matrix[idx_j][idx_i]=text_value_dicts[(p_j,p_i)]\n",
    "print(text_cbmc_matrix)\n",
    "np.save('text_cbmc.npy',text_cbmc_matrix)"
   ]
  },
  {
   "cell_type": "code",
   "execution_count": 9,
   "metadata": {},
   "outputs": [
    {
     "name": "stdout",
     "output_type": "stream",
     "text": [
      "[[0.      0.58375 0.569   0.      0.6745  0.      0.185   0.      0.383\n",
      "  0.3735 ]\n",
      " [0.58375 0.      0.      0.      0.725   0.      0.40425 0.      0.28975\n",
      "  0.     ]\n",
      " [0.569   0.      0.      0.      0.4275  0.      0.29775 0.1945  0.26475\n",
      "  0.     ]\n",
      " [0.      0.      0.      0.      0.      0.      0.      0.      0.\n",
      "  0.     ]\n",
      " [0.6745  0.725   0.4275  0.      0.      0.      0.35875 0.29625 0.47725\n",
      "  0.46275]\n",
      " [0.      0.      0.      0.      0.      0.      0.      0.      0.\n",
      "  0.     ]\n",
      " [0.185   0.40425 0.29775 0.      0.35875 0.      0.      0.20575 0.1955\n",
      "  0.255  ]\n",
      " [0.      0.      0.1945  0.      0.29625 0.      0.20575 0.      0.2785\n",
      "  0.274  ]\n",
      " [0.383   0.28975 0.26475 0.      0.47725 0.      0.1955  0.2785  0.\n",
      "  0.449  ]\n",
      " [0.3735  0.      0.      0.      0.46275 0.      0.255   0.274   0.449\n",
      "  0.     ]]\n"
     ]
    }
   ],
   "source": [
    "pbmc_matrix=np.zeros((len(pbmc_protein),len(pbmc_protein)))\n",
    "for idx_i,p_i in enumerate(pbmc_protein):\n",
    "    for idx_j,p_j in enumerate(pbmc_protein):\n",
    "        if (p_i,p_j) in value_dicts:\n",
    "            pbmc_matrix[idx_i][idx_j]=value_dicts[(p_i,p_j)]\n",
    "        if (p_j,p_i) in value_dicts:\n",
    "            pbmc_matrix[idx_i][idx_j]=value_dicts[(p_j,p_i)]\n",
    "np.save('pbmc.npy',pbmc_matrix)\n",
    "print(pbmc_matrix)"
   ]
  },
  {
   "cell_type": "code",
   "execution_count": 34,
   "metadata": {},
   "outputs": [
    {
     "name": "stdout",
     "output_type": "stream",
     "text": [
      "[[0.    0.955 0.959 0.    0.982 0.    0.411 0.    0.772 0.762]\n",
      " [0.955 0.    0.    0.    0.982 0.    0.758 0.    0.605 0.   ]\n",
      " [0.959 0.    0.    0.    0.763 0.    0.621 0.414 0.544 0.   ]\n",
      " [0.    0.    0.    0.    0.    0.    0.    0.    0.    0.   ]\n",
      " [0.982 0.982 0.763 0.    0.    0.    0.695 0.619 0.929 0.931]\n",
      " [0.    0.    0.    0.    0.    0.    0.    0.    0.    0.   ]\n",
      " [0.411 0.758 0.621 0.    0.695 0.    0.    0.633 0.491 0.521]\n",
      " [0.    0.    0.414 0.    0.619 0.    0.633 0.    0.596 0.548]\n",
      " [0.772 0.605 0.544 0.    0.929 0.    0.491 0.596 0.    0.901]\n",
      " [0.762 0.    0.    0.    0.931 0.    0.521 0.548 0.901 0.   ]]\n",
      "[[0.  0.9 0.9 0.  0.9 0.  0.  0.  0.  0. ]\n",
      " [0.9 0.  0.  0.  0.9 0.  0.  0.  0.  0. ]\n",
      " [0.9 0.  0.  0.  0.  0.  0.  0.  0.  0. ]\n",
      " [0.  0.  0.  0.  0.  0.  0.  0.  0.  0. ]\n",
      " [0.9 0.9 0.  0.  0.  0.  0.  0.  0.  0. ]\n",
      " [0.  0.  0.  0.  0.  0.  0.  0.  0.  0. ]\n",
      " [0.  0.  0.  0.  0.  0.  0.  0.  0.  0. ]\n",
      " [0.  0.  0.  0.  0.  0.  0.  0.  0.  0. ]\n",
      " [0.  0.  0.  0.  0.  0.  0.  0.  0.  0. ]\n",
      " [0.  0.  0.  0.  0.  0.  0.  0.  0.  0. ]]\n",
      "[[0.    0.    0.    0.    0.064 0.    0.    0.    0.    0.   ]\n",
      " [0.    0.    0.    0.    0.379 0.    0.379 0.    0.    0.   ]\n",
      " [0.    0.    0.    0.    0.379 0.    0.    0.    0.    0.   ]\n",
      " [0.    0.    0.    0.    0.    0.    0.    0.    0.    0.   ]\n",
      " [0.064 0.379 0.379 0.    0.    0.    0.39  0.    0.081 0.   ]\n",
      " [0.    0.    0.    0.    0.    0.    0.    0.    0.    0.   ]\n",
      " [0.    0.379 0.    0.    0.39  0.    0.    0.    0.    0.   ]\n",
      " [0.    0.    0.    0.    0.    0.    0.    0.    0.    0.   ]\n",
      " [0.    0.    0.    0.    0.081 0.    0.    0.    0.    0.   ]\n",
      " [0.    0.    0.    0.    0.    0.    0.    0.    0.    0.   ]]\n",
      "[[0.    0.48  0.417 0.    0.752 0.    0.329 0.    0.76  0.732]\n",
      " [0.48  0.    0.    0.    0.639 0.    0.48  0.    0.554 0.   ]\n",
      " [0.417 0.    0.    0.    0.568 0.    0.57  0.364 0.515 0.   ]\n",
      " [0.    0.    0.    0.    0.    0.    0.    0.    0.    0.   ]\n",
      " [0.752 0.639 0.568 0.    0.    0.    0.35  0.566 0.899 0.92 ]\n",
      " [0.    0.    0.    0.    0.    0.    0.    0.    0.    0.   ]\n",
      " [0.329 0.48  0.57  0.    0.35  0.    0.    0.19  0.291 0.499]\n",
      " [0.    0.    0.364 0.    0.566 0.    0.19  0.    0.518 0.548]\n",
      " [0.76  0.554 0.515 0.    0.899 0.    0.291 0.518 0.    0.895]\n",
      " [0.732 0.    0.    0.    0.92  0.    0.499 0.548 0.895 0.   ]]\n"
     ]
    }
   ],
   "source": [
    "combine_pbmc_matrix=np.zeros((len(pbmc_protein),len(pbmc_protein)))\n",
    "for idx_i,p_i in enumerate(pbmc_protein):\n",
    "    for idx_j,p_j in enumerate(pbmc_protein):\n",
    "        if (p_i,p_j) in value_dicts:\n",
    "            combine_pbmc_matrix[idx_i][idx_j]=combine_value_dicts[(p_i,p_j)]\n",
    "            combine_pbmc_matrix[idx_j][idx_i]=combine_value_dicts[(p_i,p_j)]\n",
    "        if (p_j,p_i) in value_dicts:\n",
    "            combine_pbmc_matrix[idx_i][idx_j]=combine_value_dicts[(p_j,p_i)]\n",
    "            combine_pbmc_matrix[idx_j][idx_i]=combine_value_dicts[(p_j,p_i)]\n",
    "np.save('combine_pbmc.npy',combine_pbmc_matrix)\n",
    "print(combine_pbmc_matrix)\n",
    "\n",
    "database_pbmc_matrix=np.zeros((len(pbmc_protein),len(pbmc_protein)))\n",
    "for idx_i,p_i in enumerate(pbmc_protein):\n",
    "    for idx_j,p_j in enumerate(pbmc_protein):\n",
    "        if (p_i,p_j) in value_dicts:\n",
    "            database_pbmc_matrix[idx_i][idx_j]=database_value_dicts[(p_i,p_j)]\n",
    "            database_pbmc_matrix[idx_j][idx_i]=database_value_dicts[(p_i,p_j)]\n",
    "        if (p_j,p_i) in value_dicts:\n",
    "            database_pbmc_matrix[idx_i][idx_j]=database_value_dicts[(p_j,p_i)]\n",
    "            database_pbmc_matrix[idx_j][idx_i]=database_value_dicts[(p_j,p_i)]\n",
    "np.save('database_pbmc.npy',database_pbmc_matrix)\n",
    "print(database_pbmc_matrix)\n",
    "\n",
    "experiment_pbmc_matrix=np.zeros((len(pbmc_protein),len(pbmc_protein)))\n",
    "for idx_i,p_i in enumerate(pbmc_protein):\n",
    "    for idx_j,p_j in enumerate(pbmc_protein):\n",
    "        if (p_i,p_j) in value_dicts:\n",
    "            experiment_pbmc_matrix[idx_i][idx_j]=experiment_value_dicts[(p_i,p_j)]\n",
    "            experiment_pbmc_matrix[idx_j][idx_i]=experiment_value_dicts[(p_i,p_j)]\n",
    "        if (p_j,p_i) in value_dicts:\n",
    "            experiment_pbmc_matrix[idx_i][idx_j]=experiment_value_dicts[(p_j,p_i)]\n",
    "            experiment_pbmc_matrix[idx_j][idx_i]=experiment_value_dicts[(p_j,p_i)]\n",
    "np.save('experiment_pbmc.npy',experiment_pbmc_matrix)\n",
    "print(experiment_pbmc_matrix)\n",
    "\n",
    "text_pbmc_matrix=np.zeros((len(pbmc_protein),len(pbmc_protein)))\n",
    "for idx_i,p_i in enumerate(pbmc_protein):\n",
    "    for idx_j,p_j in enumerate(pbmc_protein):\n",
    "        if (p_i,p_j) in value_dicts:\n",
    "            text_pbmc_matrix[idx_i][idx_j]=text_value_dicts[(p_i,p_j)]\n",
    "            text_pbmc_matrix[idx_j][idx_i]=text_value_dicts[(p_i,p_j)]\n",
    "        if (p_j,p_i) in value_dicts:\n",
    "            text_pbmc_matrix[idx_i][idx_j]=text_value_dicts[(p_j,p_i)]\n",
    "            text_pbmc_matrix[idx_j][idx_i]=text_value_dicts[(p_j,p_i)]\n",
    "np.save('text_pbmc.npy',text_pbmc_matrix)\n",
    "print(text_pbmc_matrix)\n"
   ]
  },
  {
   "cell_type": "code",
   "execution_count": 10,
   "metadata": {},
   "outputs": [
    {
     "data": {
      "text/plain": [
       "<matplotlib.axes._subplots.AxesSubplot at 0x7fbfb2025780>"
      ]
     },
     "execution_count": 10,
     "metadata": {},
     "output_type": "execute_result"
    },
    {
     "data": {
      "image/png": "[encoded data removed]",
      "text/plain": [
       "<Figure size 432x288 with 2 Axes>"
      ]
     },
     "metadata": {
      "needs_background": "light"
     },
     "output_type": "display_data"
    }
   ],
   "source": [
    "sns.heatmap(np.abs(cbmc_matrix))"
   ]
  },
  {
   "cell_type": "code",
   "execution_count": 11,
   "metadata": {},
   "outputs": [
    {
     "data": {
      "text/plain": [
       "<matplotlib.axes._subplots.AxesSubplot at 0x7fbfb2011588>"
      ]
     },
     "execution_count": 11,
     "metadata": {},
     "output_type": "execute_result"
    },
    {
     "data": {
      "image/png": "[encoded data removed]",
      "text/plain": [
       "<Figure size 432x288 with 2 Axes>"
      ]
     },
     "metadata": {
      "needs_background": "light"
     },
     "output_type": "display_data"
    }
   ],
   "source": [
    "\n",
    "sns.heatmap(np.abs(pbmc_matrix))"
   ]
  },
  {
   "cell_type": "code",
   "execution_count": 13,
   "metadata": {},
   "outputs": [
    {
     "name": "stdout",
     "output_type": "stream",
     "text": [
      "             CD3       CD4       CD8    CD45RA      CD56      CD16  CD10  \\\n",
      "CD3     0.000000  0.145937  0.142250  0.168625  0.053750  0.046250   0.0   \n",
      "CD4     0.145937  0.000000  0.000000  0.181250  0.000000  0.101062   0.0   \n",
      "CD8     0.142250  0.000000  0.000000  0.106875  0.000000  0.074438   0.0   \n",
      "CD45RA  0.000000  0.000000  0.000000  0.000000  0.000000  0.000000   0.0   \n",
      "CD56    0.168625  0.181250  0.106875  0.000000  0.106438  0.089688   0.0   \n",
      "CD16    0.000000  0.000000  0.000000  0.000000  0.000000  0.000000   0.0   \n",
      "CD10    0.046250  0.101062  0.074438  0.089688  0.067250  0.000000   0.0   \n",
      "CD11c   0.000000  0.000000  0.048625  0.074063  0.058250  0.051437   0.0   \n",
      "CD14    0.095750  0.072438  0.066187  0.119313  0.088375  0.048875   0.0   \n",
      "CD19    0.093375  0.000000  0.000000  0.115687  0.115125  0.063750   0.0   \n",
      "CD34    0.000000  0.000000  0.000000  0.000000  0.000000  0.000000   0.0   \n",
      "CCR5    0.000000  0.000000  0.000000  0.000000  0.000000  0.000000   0.0   \n",
      "CCR7    0.000000  0.000000  0.000000  0.000000  0.000000  0.000000   0.0   \n",
      "\n",
      "           CD11c      CD14      CD19      CD34  CCR5  CCR7  \n",
      "CD3     0.095750  0.000000  0.093375  0.060750   0.0   0.0  \n",
      "CD4     0.072438  0.000000  0.000000  0.000000   0.0   0.0  \n",
      "CD8     0.066187  0.048625  0.000000  0.000000   0.0   0.0  \n",
      "CD45RA  0.000000  0.000000  0.000000  0.000000   0.0   0.0  \n",
      "CD56    0.119313  0.074063  0.115687  0.115625   0.0   0.0  \n",
      "CD16    0.000000  0.000000  0.000000  0.000000   0.0   0.0  \n",
      "CD10    0.048875  0.051437  0.063750  0.000000   0.0   0.0  \n",
      "CD11c   0.069625  0.000000  0.068500  0.068125   0.0   0.0  \n",
      "CD14    0.000000  0.069625  0.112250  0.090500   0.0   0.0  \n",
      "CD19    0.112250  0.068500  0.000000  0.109000   0.0   0.0  \n",
      "CD34    0.000000  0.000000  0.000000  0.000000   0.0   0.0  \n",
      "CCR5    0.000000  0.000000  0.000000  0.000000   0.0   0.0  \n",
      "CCR7    0.000000  0.000000  0.000000  0.000000   0.0   0.0  \n"
     ]
    }
   ],
   "source": [
    "x_tick=cbmc_protein\n",
    "y_tick=cbmc_protein\n",
    "X=abs(cbmc_matrix)/4\n",
    "data={}\n",
    "for i in range(len(cbmc_protein)):\n",
    "    data[x_tick[i]] = X[i]\n",
    "pd_data=pd.DataFrame(data,index=y_tick,columns=x_tick)\n",
    "print(pd_data)"
   ]
  },
  {
   "cell_type": "code",
   "execution_count": 14,
   "metadata": {},
   "outputs": [
    {
     "name": "stderr",
     "output_type": "stream",
     "text": [
      "findfont: Font family ['sans-serif'] not found. Falling back to DejaVu Sans.\n",
      "findfont: Font family ['sans-serif'] not found. Falling back to DejaVu Sans.\n"
     ]
    },
    {
     "data": {
      "image/png": "[encoded data removed]",
      "text/plain": [
       "<Figure size 576x576 with 2 Axes>"
      ]
     },
     "metadata": {
      "needs_background": "light"
     },
     "output_type": "display_data"
    }
   ],
   "source": [
    "import seaborn as sns\n",
    "import matplotlib.pyplot as plt\n",
    "from pylab import mpl\n",
    " \n",
    "mpl.rcParams['font.family'] = 'sans-serif'\n",
    "mpl.rcParams['font.sans-serif'] = 'NSimSun,Times New Roman'\n",
    "font = {'family': 'sans-serif',\n",
    "            'color': 'k',\n",
    "            'weight': 'normal',\n",
    "            'size': 20,}\n",
    " \n",
    "f, ax = plt.subplots(figsize=(8, 8))\n",
    "ax = sns.heatmap(pd_data) #画heatmap，具体参数可以查文档\n",
    " \n",
    "plt.xticks(fontsize=20) #x轴刻度的字体大小（文本包含在pd_data中了）\n",
    "plt.yticks(fontsize=20) #y轴刻度的字体大小（文本包含在pd_data中了）\n",
    "#设置colorbar的刻度字体大小\n",
    "cax = plt.gcf().axes[-1]\n",
    "cax.tick_params(labelsize=15)\n",
    "#设置colorbar的label文本和字体大小\n",
    "cbar = ax.collections[0].colorbar\n",
    "cbar.set_label(r'$weights$',fontdict=font)"
   ]
  },
  {
   "cell_type": "code",
   "execution_count": null,
   "metadata": {},
   "outputs": [],
   "source": []
  }
 ],
 "metadata": {
  "kernelspec": {
   "display_name": "Python 3",
   "language": "python",
   "name": "python3"
  },
  "language_info": {
   "codemirror_mode": {
    "name": "ipython",
    "version": 3
   },
   "file_extension": ".py",
   "mimetype": "text/x-python",
   "name": "python",
   "nbconvert_exporter": "python",
   "pygments_lexer": "ipython3",
   "version": "3.6.10"
  }
 },
 "nbformat": 4,
 "nbformat_minor": 1
}
